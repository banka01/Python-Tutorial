{
 "cells": [
  {
   "cell_type": "code",
   "execution_count": 1,
   "metadata": {},
   "outputs": [
    {
     "name": "stdout",
     "output_type": "stream",
     "text": [
      "Enter your Nameabcd\n"
     ]
    }
   ],
   "source": [
    "## user input .\n",
    "name = input('Enter your Name')"
   ]
  },
  {
   "cell_type": "code",
   "execution_count": 4,
   "metadata": {},
   "outputs": [
    {
     "name": "stdout",
     "output_type": "stream",
     "text": [
      "Enter your Name:abcd\n",
      "name entered is abcd\n",
      "<class 'str'>\n"
     ]
    }
   ],
   "source": [
    "name = input('Enter your Name:')\n",
    "print(f\"name entered is {name}\")\n",
    "print(type(name))"
   ]
  },
  {
   "cell_type": "code",
   "execution_count": 5,
   "metadata": {},
   "outputs": [
    {
     "name": "stdout",
     "output_type": "stream",
     "text": [
      "Enter a number:10\n",
      "number entered is 10\n",
      "<class 'str'>\n"
     ]
    }
   ],
   "source": [
    "number = input('Enter a number:')\n",
    "print(f\"number entered is {number}\")\n",
    "print(type(number))\n",
    "## user eneterd input is always string"
   ]
  },
  {
   "cell_type": "code",
   "execution_count": 6,
   "metadata": {},
   "outputs": [
    {
     "name": "stdout",
     "output_type": "stream",
     "text": [
      "Enter Number1:100\n",
      "Enter Number2:200\n",
      "Addition op is  100200\n"
     ]
    }
   ],
   "source": [
    "## program to calculate sum of two numbers\n",
    "num1 = input('Enter Number1:')\n",
    "num2 = input('Enter Number2:')\n",
    "result = num1 + num2\n",
    "print(\"Addition op is \",result)\n"
   ]
  },
  {
   "cell_type": "code",
   "execution_count": 7,
   "metadata": {},
   "outputs": [
    {
     "name": "stdout",
     "output_type": "stream",
     "text": [
      "Enter Number1:100\n",
      "Enter Number2:200\n",
      "Addition op is  300\n"
     ]
    }
   ],
   "source": [
    "num1 = int(input('Enter Number1:'))\n",
    "num2 = int(input('Enter Number2:'))\n",
    "result = num1 + num2\n",
    "print(\"Addition op is \",result)"
   ]
  }
 ],
 "metadata": {
  "kernelspec": {
   "display_name": "Python 3",
   "language": "python",
   "name": "python3"
  },
  "language_info": {
   "codemirror_mode": {
    "name": "ipython",
    "version": 3
   },
   "file_extension": ".py",
   "mimetype": "text/x-python",
   "name": "python",
   "nbconvert_exporter": "python",
   "pygments_lexer": "ipython3",
   "version": "3.6.4"
  }
 },
 "nbformat": 4,
 "nbformat_minor": 2
}

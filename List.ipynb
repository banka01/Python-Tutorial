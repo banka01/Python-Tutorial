{
 "cells": [
  {
   "cell_type": "code",
   "execution_count": null,
   "metadata": {},
   "outputs": [],
   "source": [
    "## list is collection of heterogenous elements\n",
    "# list is mutable"
   ]
  },
  {
   "cell_type": "code",
   "execution_count": 2,
   "metadata": {},
   "outputs": [
    {
     "name": "stdout",
     "output_type": "stream",
     "text": [
      "<class 'list'>\n",
      "<class 'list'>\n"
     ]
    }
   ],
   "source": [
    "## empty list\n",
    "country =[]\n",
    "print(type(country))\n",
    "\n",
    "states = list()\n",
    "print(type(states))"
   ]
  },
  {
   "cell_type": "code",
   "execution_count": 4,
   "metadata": {},
   "outputs": [
    {
     "name": "stdout",
     "output_type": "stream",
     "text": [
      "0\n"
     ]
    }
   ],
   "source": [
    "## size of list\n",
    "print(len(country))"
   ]
  },
  {
   "cell_type": "code",
   "execution_count": 6,
   "metadata": {},
   "outputs": [
    {
     "name": "stdout",
     "output_type": "stream",
     "text": [
      "['India', 'Srilanka']\n",
      "2\n"
     ]
    }
   ],
   "source": [
    "country = ['India','Srilanka']\n",
    "print(country)\n",
    "print(len(country))"
   ]
  },
  {
   "cell_type": "code",
   "execution_count": 8,
   "metadata": {},
   "outputs": [
    {
     "name": "stdout",
     "output_type": "stream",
     "text": [
      "India\n",
      "Srilanka\n"
     ]
    }
   ],
   "source": [
    "## access individual elements\n",
    "print(country[0])\n",
    "print(country[1])"
   ]
  },
  {
   "cell_type": "code",
   "execution_count": 11,
   "metadata": {},
   "outputs": [
    {
     "name": "stdout",
     "output_type": "stream",
     "text": [
      "['abcd', 20, 'M', 'BNG', 12235679, False, 20.345, 20.345]\n",
      "['DEFG', 20, 'M', 'BNG', 12235679, False, 20.345, 20.345]\n"
     ]
    }
   ],
   "source": [
    "employee_details = ['abcd',20,'M','BNG',12235679,False,20.345,20.345]\n",
    "print(employee_details)\n",
    "employee_details[0]='DEFG'\n",
    "print(employee_details)"
   ]
  }
 ],
 "metadata": {
  "kernelspec": {
   "display_name": "Python 3",
   "language": "python",
   "name": "python3"
  },
  "language_info": {
   "codemirror_mode": {
    "name": "ipython",
    "version": 3
   },
   "file_extension": ".py",
   "mimetype": "text/x-python",
   "name": "python",
   "nbconvert_exporter": "python",
   "pygments_lexer": "ipython3",
   "version": "3.6.4"
  }
 },
 "nbformat": 4,
 "nbformat_minor": 2
}

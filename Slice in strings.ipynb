{
 "cells": [
  {
   "cell_type": "code",
   "execution_count": 2,
   "metadata": {},
   "outputs": [],
   "source": [
    "## slice in strings,\n",
    "## substr from str\n",
    "\n",
    "country = 'India'\n"
   ]
  },
  {
   "cell_type": "code",
   "execution_count": 3,
   "metadata": {},
   "outputs": [
    {
     "data": {
      "text/plain": [
       "'I'"
      ]
     },
     "execution_count": 3,
     "metadata": {},
     "output_type": "execute_result"
    }
   ],
   "source": [
    "country[0]\n",
    "## str[start:stop:step]"
   ]
  },
  {
   "cell_type": "code",
   "execution_count": 4,
   "metadata": {},
   "outputs": [
    {
     "name": "stdout",
     "output_type": "stream",
     "text": [
      "I\n"
     ]
    }
   ],
   "source": [
    "print(country[0])"
   ]
  },
  {
   "cell_type": "code",
   "execution_count": 7,
   "metadata": {},
   "outputs": [
    {
     "name": "stdout",
     "output_type": "stream",
     "text": [
      "I n\n",
      "In\n",
      "India\n"
     ]
    }
   ],
   "source": [
    "print(country[0],country[1])\n",
    "print(country[0:2])\n",
    "print(country[0:5])"
   ]
  },
  {
   "cell_type": "code",
   "execution_count": 9,
   "metadata": {},
   "outputs": [
    {
     "name": "stdout",
     "output_type": "stream",
     "text": [
      "di\n",
      "India\n"
     ]
    }
   ],
   "source": [
    "print(country[2:4])\n",
    "print(country[0:]) ## start to end"
   ]
  },
  {
   "cell_type": "code",
   "execution_count": 10,
   "metadata": {},
   "outputs": [
    {
     "name": "stdout",
     "output_type": "stream",
     "text": [
      "ndia\n"
     ]
    }
   ],
   "source": [
    "print(country[1:])"
   ]
  },
  {
   "cell_type": "code",
   "execution_count": 13,
   "metadata": {},
   "outputs": [
    {
     "name": "stdout",
     "output_type": "stream",
     "text": [
      "Ida\n"
     ]
    }
   ],
   "source": [
    "print(country[0::2])"
   ]
  },
  {
   "cell_type": "code",
   "execution_count": 14,
   "metadata": {},
   "outputs": [
    {
     "name": "stdout",
     "output_type": "stream",
     "text": [
      "Ii\n"
     ]
    }
   ],
   "source": [
    "print(country[::3]) ## start default is 0"
   ]
  },
  {
   "cell_type": "code",
   "execution_count": 15,
   "metadata": {},
   "outputs": [
    {
     "name": "stdout",
     "output_type": "stream",
     "text": [
      "a\n"
     ]
    }
   ],
   "source": [
    "print(country[-1])"
   ]
  },
  {
   "cell_type": "code",
   "execution_count": 18,
   "metadata": {},
   "outputs": [
    {
     "name": "stdout",
     "output_type": "stream",
     "text": [
      "aid\n"
     ]
    }
   ],
   "source": [
    "print(country[-1:-4:-1])"
   ]
  },
  {
   "cell_type": "code",
   "execution_count": 22,
   "metadata": {},
   "outputs": [
    {
     "name": "stdout",
     "output_type": "stream",
     "text": [
      "aidnI\n",
      "<reversed object at 0x00000272651059E8>\n"
     ]
    }
   ],
   "source": [
    "print(country[::-1])\n"
   ]
  },
  {
   "cell_type": "code",
   "execution_count": 26,
   "metadata": {},
   "outputs": [
    {
     "name": "stdout",
     "output_type": "stream",
     "text": [
      "14/12/2019\n",
      "14/12/2019\n",
      "14/12/2019\n"
     ]
    }
   ],
   "source": [
    "month = '12'\n",
    "day='14'\n",
    "year='2019'\n",
    "\n",
    "## 14/12/2019\n",
    "print(f\"{day}/{month}/{year}\")\n",
    "print('{0}/{1}/{2}'.format(day,month,year))\n",
    "print(day+\"/\"+month+\"/\"+year)"
   ]
  },
  {
   "cell_type": "code",
   "execution_count": 33,
   "metadata": {},
   "outputs": [
    {
     "name": "stdout",
     "output_type": "stream",
     "text": [
      "14/12/2019\n",
      "B/N/G\n"
     ]
    }
   ],
   "source": [
    "## join function ## string contatenation\n",
    "print(\"/\".join([day,month,year]))\n",
    "print(\"/\".join('BNG'))"
   ]
  },
  {
   "cell_type": "code",
   "execution_count": 36,
   "metadata": {},
   "outputs": [
    {
     "name": "stdout",
     "output_type": "stream",
     "text": [
      "Tday\n",
      "today\n"
     ]
    }
   ],
   "source": [
    "## strings functions\n",
    "day='today'\n",
    "print(day.replace('to','T')) ## \n",
    "print(day)"
   ]
  }
 ],
 "metadata": {
  "kernelspec": {
   "display_name": "Python 3",
   "language": "python",
   "name": "python3"
  },
  "language_info": {
   "codemirror_mode": {
    "name": "ipython",
    "version": 3
   },
   "file_extension": ".py",
   "mimetype": "text/x-python",
   "name": "python",
   "nbconvert_exporter": "python",
   "pygments_lexer": "ipython3",
   "version": "3.6.4"
  }
 },
 "nbformat": 4,
 "nbformat_minor": 2
}

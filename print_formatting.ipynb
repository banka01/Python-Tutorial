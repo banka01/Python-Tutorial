{
 "cells": [
  {
   "cell_type": "markdown",
   "metadata": {},
   "source": [
    "##print formatting\n",
    "print()\n",
    "print(\"\".format())\n",
    "print(f\"\")"
   ]
  },
  {
   "cell_type": "code",
   "execution_count": 9,
   "metadata": {},
   "outputs": [
    {
     "name": "stdout",
     "output_type": "stream",
     "text": [
      "Saturday\n"
     ]
    }
   ],
   "source": [
    "## \n",
    "today='Saturday'\n",
    "print(today)"
   ]
  },
  {
   "cell_type": "code",
   "execution_count": 21,
   "metadata": {},
   "outputs": [
    {
     "name": "stdout",
     "output_type": "stream",
     "text": [
      "Saturday sunday\n",
      "11 12 10\n"
     ]
    }
   ],
   "source": [
    "tomorrow='sunday'\n",
    "no=10\n",
    "print(today,tomorrow) ## use commas to separate object\n",
    "print(11,12,no)"
   ]
  },
  {
   "cell_type": "code",
   "execution_count": 20,
   "metadata": {},
   "outputs": [
    {
     "name": "stdout",
     "output_type": "stream",
     "text": [
      "Saturday**sunday Another Line\n",
      "Another New Line\n"
     ]
    }
   ],
   "source": [
    "print(today,tomorrow,sep='**',end=' ')\n",
    "print('Another Line')\n",
    "print('Another New Line')"
   ]
  },
  {
   "cell_type": "code",
   "execution_count": 29,
   "metadata": {},
   "outputs": [
    {
     "name": "stdout",
     "output_type": "stream",
     "text": [
      "Today is Saturday\n",
      "Today is Saturday\n"
     ]
    }
   ],
   "source": [
    "## Today is Saturday\n",
    "day='Saturday'\n",
    "print('Today is',day)\n",
    "print('Today is '+day)"
   ]
  },
  {
   "cell_type": "code",
   "execution_count": 31,
   "metadata": {},
   "outputs": [
    {
     "name": "stdout",
     "output_type": "stream",
     "text": [
      "Today is Saturday\n",
      "Today is Saturday Saturday\n"
     ]
    }
   ],
   "source": [
    "## placeholder\n",
    "print('Today is {}'.format(day))\n",
    "print('Today is {} {}'.format(day,day))"
   ]
  },
  {
   "cell_type": "code",
   "execution_count": 34,
   "metadata": {},
   "outputs": [
    {
     "name": "stdout",
     "output_type": "stream",
     "text": [
      "Today is Saturday day\n",
      "Today is day Saturday\n"
     ]
    }
   ],
   "source": [
    "print('Today is {0} {1}'.format(day,\"day\"))\n",
    "print('Today is {1} {0}'.format(day,\"day\"))"
   ]
  },
  {
   "cell_type": "code",
   "execution_count": 37,
   "metadata": {},
   "outputs": [
    {
     "name": "stdout",
     "output_type": "stream",
     "text": [
      "State KA Capital BNG\n",
      "StateKACapitalBNG\n"
     ]
    }
   ],
   "source": [
    "## fstrings\n",
    "state='KA'\n",
    "capital = 'BNG'\n",
    "##State KA , Capital BNG\n",
    "print('State {0} Capital {1}'.format(state,capital))\n",
    "print(f\"State{state}Capital{capital}\")"
   ]
  },
  {
   "cell_type": "code",
   "execution_count": null,
   "metadata": {},
   "outputs": [],
   "source": []
  },
  {
   "cell_type": "code",
   "execution_count": 40,
   "metadata": {},
   "outputs": [
    {
     "name": "stdout",
     "output_type": "stream",
     "text": [
      "State KA Capital BNG\n",
      "State BNG Capital KA\n"
     ]
    }
   ],
   "source": [
    "state='KA'\n",
    "capital = 'BNG'\n",
    "##State KA , Capital BNG\n",
    "print('State {sta} Capital {cap}'.format(sta=state,cap=capital))\n",
    "print('State {cap} Capital {sta}'.format(sta=state,cap=capital))"
   ]
  }
 ],
 "metadata": {
  "kernelspec": {
   "display_name": "Python 3",
   "language": "python",
   "name": "python3"
  },
  "language_info": {
   "codemirror_mode": {
    "name": "ipython",
    "version": 3
   },
   "file_extension": ".py",
   "mimetype": "text/x-python",
   "name": "python",
   "nbconvert_exporter": "python",
   "pygments_lexer": "ipython3",
   "version": "3.6.4"
  }
 },
 "nbformat": 4,
 "nbformat_minor": 2
}

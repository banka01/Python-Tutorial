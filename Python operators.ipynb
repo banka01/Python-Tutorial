{
 "cells": [
  {
   "cell_type": "markdown",
   "metadata": {},
   "source": [
    "# Python Operators.\n",
    "Operators are classified as below\n",
    "\n",
    "Arithmetic\n",
    "Assignmment\n",
    "Comparison\n",
    "Logical\n",
    "Bitwise\n",
    "Identity\n",
    "Membership\n"
   ]
  },
  {
   "cell_type": "markdown",
   "metadata": {},
   "source": [
    "## Arithmetic operators\n",
    "# + , - , * , /, ** ,% , //"
   ]
  },
  {
   "cell_type": "code",
   "execution_count": 5,
   "metadata": {},
   "outputs": [
    {
     "name": "stdout",
     "output_type": "stream",
     "text": [
      "addition result: 30\n",
      "30.345\n",
      "subtraction result: -10\n",
      "product of x and y 200\n",
      "division result  6.666666666666667\n",
      "quotient 6\n",
      "remainder 2\n",
      "exp 1000\n"
     ]
    }
   ],
   "source": [
    "## code for operators\n",
    "x=10\n",
    "y=20\n",
    "res=x+y\n",
    "print(\"addition result:\",res)\n",
    "res = 10 + 20.345\n",
    "print(res)\n",
    "res = x-y\n",
    "print(\"subtraction result:\",res)\n",
    "res = x * y\n",
    "print(\"product of x and y\",res)\n",
    "res = 20 / 3\n",
    "print(\"division result \",res)\n",
    "res = 20 // 3\n",
    "print(\"quotient\",res)\n",
    "res = 20 % 3\n",
    "print(\"remainder\",res)\n",
    "res  = x ** 3\n",
    "print(\"exp\",res)"
   ]
  },
  {
   "cell_type": "code",
   "execution_count": 2,
   "metadata": {},
   "outputs": [
    {
     "name": "stdout",
     "output_type": "stream",
     "text": [
      "6.666666666666667\n",
      "6\n"
     ]
    }
   ],
   "source": [
    "print(20/3)\n",
    "print(20//3)"
   ]
  },
  {
   "cell_type": "code",
   "execution_count": 7,
   "metadata": {},
   "outputs": [
    {
     "name": "stdout",
     "output_type": "stream",
     "text": [
      "You have to pay  780.0\n",
      "cost of banana 800\n"
     ]
    }
   ],
   "source": [
    "## cost of 1kg apple = 120\n",
    "## find cost of 6.5 kg of apple\n",
    "cost_of_apple_per_kg = 120\n",
    "quantity= 6.5\n",
    "\n",
    "total_cost = cost_of_apple_per_kg * quantity\n",
    "print(\"You have to pay \",total_cost)\n",
    "cost_of_banana =40\n",
    "quant = 20\n",
    "cost = cost_of_banana * quant\n",
    "print(\"cost of banana\", cost)\n",
    "cost= 200 * 3"
   ]
  },
  {
   "cell_type": "code",
   "execution_count": 11,
   "metadata": {},
   "outputs": [
    {
     "name": "stdout",
     "output_type": "stream",
     "text": [
      "10\n"
     ]
    }
   ],
   "source": [
    "_B = 10\n",
    "print(_B)"
   ]
  },
  {
   "cell_type": "markdown",
   "metadata": {},
   "source": [
    "## Assignment  operators\n",
    "# =,+=,-=,*=,/=,%= //="
   ]
  },
  {
   "cell_type": "code",
   "execution_count": 3,
   "metadata": {},
   "outputs": [
    {
     "name": "stdout",
     "output_type": "stream",
     "text": [
      "101\n",
      "103\n",
      "1 None\n"
     ]
    }
   ],
   "source": [
    "x= 100\n",
    "x+= 1\n",
    "print(x)\n",
    "x+=2\n",
    "print(x)\n",
    "\n",
    "x%=6\n",
    "we = None\n",
    "print(x,we)"
   ]
  },
  {
   "cell_type": "markdown",
   "metadata": {},
   "source": [
    "## comparison operators\n",
    "# , >,<,==,,!=\n",
    "## output is always boolean. i:e true or false"
   ]
  },
  {
   "cell_type": "code",
   "execution_count": 18,
   "metadata": {},
   "outputs": [
    {
     "name": "stdout",
     "output_type": "stream",
     "text": [
      "no vote\n",
      "True\n",
      "<class 'bool'>\n"
     ]
    }
   ],
   "source": [
    "age = 20\n",
    "if age <= 18:\n",
    "    print('vote')\n",
    "else:\n",
    "    print(\"no vote\")\n",
    "res = age < 25\n",
    "print(res)\n",
    "print(type(res))\n",
    "\n",
    "age == 18"
   ]
  },
  {
   "cell_type": "markdown",
   "metadata": {},
   "source": [
    "# logical operator\n",
    "and,or not\n",
    "and : return x is x is false, y otherwise\n",
    "or: return y is x is false, x otherise\n",
    "not : return x is  x is true else False"
   ]
  },
  {
   "cell_type": "code",
   "execution_count": 3,
   "metadata": {},
   "outputs": [
    {
     "name": "stdout",
     "output_type": "stream",
     "text": [
      "-2\n",
      "welcome\n",
      "False\n"
     ]
    }
   ],
   "source": [
    "res = - 1 and -2\n",
    "print(res)\n",
    "if res:\n",
    "    print(\"welcome\")\n",
    "x=1\n",
    "y=not x\n",
    "print(y)"
   ]
  },
  {
   "cell_type": "code",
   "execution_count": 10,
   "metadata": {},
   "outputs": [
    {
     "name": "stdout",
     "output_type": "stream",
     "text": [
      "5\n"
     ]
    }
   ],
   "source": [
    "x=5\n",
    "y=False \n",
    "z=False \n",
    "print(x or y or z)"
   ]
  },
  {
   "cell_type": "markdown",
   "metadata": {},
   "source": [
    "## bitwise operator\n",
    "| or , & and , ^ xor, << , >>>"
   ]
  },
  {
   "cell_type": "code",
   "execution_count": 14,
   "metadata": {},
   "outputs": [
    {
     "name": "stdout",
     "output_type": "stream",
     "text": [
      "6\n",
      "2\n",
      "6\n",
      "x << 2 20\n",
      "2\n"
     ]
    }
   ],
   "source": [
    "x =2 \n",
    "y = 4\n",
    "res = x | y\n",
    "print(res)\n",
    "\n",
    "x =2 \n",
    "y = 2\n",
    "res = x & y\n",
    "print(res)\n",
    "\n",
    "x =2 \n",
    "y = 4\n",
    "res = x ^ y\n",
    "print(res)\n",
    "\n",
    "x =10\n",
    "y = 4\n",
    "res =x << 1\n",
    "print(\"x << 2\",res)\n",
    "# 0010 --- >2\n",
    "# 0100 -->\n",
    "# 1000->\n",
    "# 10000-->\n",
    "\n",
    "x =2 \n",
    "y = 4\n",
    "res = 16 >> 3\n",
    "print(res)"
   ]
  },
  {
   "cell_type": "markdown",
   "metadata": {},
   "source": [
    "## Identity\n",
    "is, is not\n",
    "is: returns true if operand is identical\n",
    "is not: True if operands are not identical\n"
   ]
  },
  {
   "cell_type": "code",
   "execution_count": 17,
   "metadata": {},
   "outputs": [
    {
     "name": "stdout",
     "output_type": "stream",
     "text": [
      "True\n"
     ]
    }
   ],
   "source": [
    "x = 10\n",
    "y='aa'\n",
    "print(x is not  y)\n"
   ]
  },
  {
   "cell_type": "code",
   "execution_count": 12,
   "metadata": {},
   "outputs": [
    {
     "name": "stdout",
     "output_type": "stream",
     "text": [
      "a\n"
     ]
    }
   ],
   "source": [
    "x='a'\n",
    "if x is not 'ab':\n",
    "    print(x)"
   ]
  },
  {
   "cell_type": "markdown",
   "metadata": {},
   "source": [
    "## membership\n",
    "in \n",
    "not in.\n"
   ]
  },
  {
   "cell_type": "code",
   "execution_count": 15,
   "metadata": {},
   "outputs": [],
   "source": [
    "x = [10,20,30]\n",
    "y=10\n",
    "if 10 not in x:\n",
    "    print(\"present\")"
   ]
  },
  {
   "cell_type": "code",
   "execution_count": 20,
   "metadata": {},
   "outputs": [
    {
     "name": "stdout",
     "output_type": "stream",
     "text": [
      "<class 'int'>\n",
      "<class 'float'>\n",
      "<class 'bool'>\n",
      "<class 'str'>\n",
      "<class 'complex'>\n"
     ]
    }
   ],
   "source": [
    "x=20\n",
    "print(type(x))\n",
    "x=20.22\n",
    "print(type(x))\n",
    "x=False\n",
    "print(type(x))\n",
    "x='abcd'\n",
    "print(type(x))\n",
    "x=1+2j\n",
    "print(type(x))"
   ]
  }
 ],
 "metadata": {
  "kernelspec": {
   "display_name": "Python 3",
   "language": "python",
   "name": "python3"
  },
  "language_info": {
   "codemirror_mode": {
    "name": "ipython",
    "version": 3
   },
   "file_extension": ".py",
   "mimetype": "text/x-python",
   "name": "python",
   "nbconvert_exporter": "python",
   "pygments_lexer": "ipython3",
   "version": "3.6.4"
  }
 },
 "nbformat": 4,
 "nbformat_minor": 2
}
